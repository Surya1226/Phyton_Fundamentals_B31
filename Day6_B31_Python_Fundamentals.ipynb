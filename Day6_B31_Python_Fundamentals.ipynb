{
 "cells": [
  {
   "cell_type": "code",
   "execution_count": 1,
   "metadata": {},
   "outputs": [],
   "source": [
    "students = ['vijaya','ghaleb','vimal','keerthi','shameen']"
   ]
  },
  {
   "cell_type": "code",
   "execution_count": 2,
   "metadata": {},
   "outputs": [
    {
     "name": "stdout",
     "output_type": "stream",
     "text": [
      "['vijaya', 'ghaleb', 'vimal', 'keerthi', 'shameen']\n"
     ]
    }
   ],
   "source": [
    "print(students)"
   ]
  },
  {
   "cell_type": "code",
   "execution_count": 3,
   "metadata": {},
   "outputs": [
    {
     "data": {
      "text/plain": [
       "list"
      ]
     },
     "execution_count": 3,
     "metadata": {},
     "output_type": "execute_result"
    }
   ],
   "source": [
    "type(students)"
   ]
  },
  {
   "cell_type": "code",
   "execution_count": 4,
   "metadata": {},
   "outputs": [
    {
     "name": "stdout",
     "output_type": "stream",
     "text": [
      "Keep up the good work, Vijaya\n"
     ]
    }
   ],
   "source": [
    "print(f\"Keep up the good work, {students[0].title()}\")"
   ]
  },
  {
   "cell_type": "code",
   "execution_count": 5,
   "metadata": {},
   "outputs": [
    {
     "name": "stdout",
     "output_type": "stream",
     "text": [
      "Keep up the good work, Ghaleb\n"
     ]
    }
   ],
   "source": [
    "print(f\"Keep up the good work, {students[1].title()}\")"
   ]
  },
  {
   "cell_type": "code",
   "execution_count": 6,
   "metadata": {},
   "outputs": [
    {
     "name": "stdout",
     "output_type": "stream",
     "text": [
      "Keep up the good work, Vijaya\n",
      "Keep up the good work, Ghaleb\n",
      "Keep up the good work, Vimal\n",
      "Keep up the good work, Keerthi\n",
      "Keep up the good work, Shameen\n"
     ]
    }
   ],
   "source": [
    "#Genral syntax for a loop\n",
    "for x in students:\n",
    "    print(f\"Keep up the good work, {x.title()}\")"
   ]
  },
  {
   "cell_type": "code",
   "execution_count": 7,
   "metadata": {},
   "outputs": [
    {
     "name": "stdout",
     "output_type": "stream",
     "text": [
      "Keep up the good work, Vijaya\n",
      "Keep up the good work, Ghaleb\n",
      "Keep up the good work, Vimal\n",
      "Keep up the good work, Keerthi\n",
      "Keep up the good work, Shameen\n"
     ]
    }
   ],
   "source": [
    " for a in students: #this whole process is called as iterating through the elements\n",
    "    print(f\"Keep up the good work, {a.title()}\")"
   ]
  },
  {
   "cell_type": "code",
   "execution_count": 8,
   "metadata": {},
   "outputs": [
    {
     "name": "stdout",
     "output_type": "stream",
     "text": [
      "Keep up the good work, Vijaya\n",
      "I am looking forward to recieve all your practice files, Vijaya\n",
      "Keep up the good work, Ghaleb\n",
      "I am looking forward to recieve all your practice files, Ghaleb\n",
      "Keep up the good work, Vimal\n",
      "I am looking forward to recieve all your practice files, Vimal\n",
      "Keep up the good work, Keerthi\n",
      "I am looking forward to recieve all your practice files, Keerthi\n",
      "Keep up the good work, Shameen\n",
      "I am looking forward to recieve all your practice files, Shameen\n"
     ]
    }
   ],
   "source": [
    "for x in students:\n",
    "    print(f\"Keep up the good work, {x.title()}\")\n",
    "    print(f\"I am looking forward to recieve all your practice files, {x.title()}\")"
   ]
  },
  {
   "cell_type": "code",
   "execution_count": 9,
   "metadata": {},
   "outputs": [
    {
     "name": "stdout",
     "output_type": "stream",
     "text": [
      "Keep up the good work, Vijaya\n",
      "I am looking forward to recieve all your practice files, Vijaya.\n",
      "\n",
      "Keep up the good work, Ghaleb\n",
      "I am looking forward to recieve all your practice files, Ghaleb.\n",
      "\n",
      "Keep up the good work, Vimal\n",
      "I am looking forward to recieve all your practice files, Vimal.\n",
      "\n",
      "Keep up the good work, Keerthi\n",
      "I am looking forward to recieve all your practice files, Keerthi.\n",
      "\n",
      "Keep up the good work, Shameen\n",
      "I am looking forward to recieve all your practice files, Shameen.\n",
      "\n"
     ]
    }
   ],
   "source": [
    "for x in students:\n",
    "    print(f\"Keep up the good work, {x.title()}\")\n",
    "    print(f\"I am looking forward to recieve all your practice files, {x.title()}.\\n\")"
   ]
  },
  {
   "cell_type": "code",
   "execution_count": null,
   "metadata": {},
   "outputs": [],
   "source": [
    "#in the Loop and out of the Loop"
   ]
  },
  {
   "cell_type": "code",
   "execution_count": 10,
   "metadata": {},
   "outputs": [
    {
     "name": "stdout",
     "output_type": "stream",
     "text": [
      "Keep up the good work, Vijaya\n",
      "I am looking forward to recieve all your practice files, Vijaya.\n",
      "\n",
      "Keep up the good work, Ghaleb\n",
      "I am looking forward to recieve all your practice files, Ghaleb.\n",
      "\n",
      "Keep up the good work, Vimal\n",
      "I am looking forward to recieve all your practice files, Vimal.\n",
      "\n",
      "Keep up the good work, Keerthi\n",
      "I am looking forward to recieve all your practice files, Keerthi.\n",
      "\n",
      "Keep up the good work, Shameen\n",
      "I am looking forward to recieve all your practice files, Shameen.\n",
      "\n",
      "Thanks all for joining the session on time.\n"
     ]
    }
   ],
   "source": [
    "for x in students:\n",
    "    print(f\"Keep up the good work, {x.title()}\") #writing in the Loop\n",
    "    print(f\"I am looking forward to recieve all your practice files, {x.title()}.\\n\")\n",
    "    \n",
    "print(\"Thanks all for joining the session on time.\") #out of the Loop"
   ]
  },
  {
   "cell_type": "code",
   "execution_count": 11,
   "metadata": {},
   "outputs": [],
   "source": [
    "cars=['suzuki','bmw','kia','benz','audi','honda']"
   ]
  },
  {
   "cell_type": "code",
   "execution_count": 12,
   "metadata": {},
   "outputs": [
    {
     "data": {
      "text/plain": [
       "6"
      ]
     },
     "execution_count": 12,
     "metadata": {},
     "output_type": "execute_result"
    }
   ],
   "source": [
    "len(cars) #tells the length or number of cars"
   ]
  },
  {
   "cell_type": "code",
   "execution_count": 13,
   "metadata": {},
   "outputs": [
    {
     "name": "stdout",
     "output_type": "stream",
     "text": [
      "['suzuki', 'bmw', 'kia', 'benz', 'audi', 'honda']\n"
     ]
    }
   ],
   "source": [
    "print(cars)"
   ]
  },
  {
   "cell_type": "code",
   "execution_count": null,
   "metadata": {},
   "outputs": [],
   "source": []
  }
 ],
 "metadata": {
  "kernelspec": {
   "display_name": "Python 3",
   "language": "python",
   "name": "python3"
  },
  "language_info": {
   "codemirror_mode": {
    "name": "ipython",
    "version": 3
   },
   "file_extension": ".py",
   "mimetype": "text/x-python",
   "name": "python",
   "nbconvert_exporter": "python",
   "pygments_lexer": "ipython3",
   "version": "3.8.6rc1"
  }
 },
 "nbformat": 4,
 "nbformat_minor": 4
}

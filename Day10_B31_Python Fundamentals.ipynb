{
 "cells": [
  {
   "cell_type": "code",
   "execution_count": 1,
   "metadata": {},
   "outputs": [],
   "source": [
    "def greet(): #step 1: def and giving the func. name\n",
    "    \"\"\"creating a greet function\"\"\" #docstring------> commenting inside the function \n",
    "    print('Hello') #logic"
   ]
  },
  {
   "cell_type": "code",
   "execution_count": 2,
   "metadata": {},
   "outputs": [
    {
     "name": "stdout",
     "output_type": "stream",
     "text": [
      "Hello\n"
     ]
    }
   ],
   "source": [
    "greet() #function call"
   ]
  },
  {
   "cell_type": "code",
   "execution_count": 3,
   "metadata": {},
   "outputs": [
    {
     "name": "stdout",
     "output_type": "stream",
     "text": [
      "Hello\n"
     ]
    }
   ],
   "source": [
    "greet() #function call"
   ]
  },
  {
   "cell_type": "code",
   "execution_count": 4,
   "metadata": {},
   "outputs": [
    {
     "name": "stdout",
     "output_type": "stream",
     "text": [
      "Hello\n"
     ]
    }
   ],
   "source": [
    "greet() #function call"
   ]
  },
  {
   "cell_type": "code",
   "execution_count": 5,
   "metadata": {},
   "outputs": [],
   "source": [
    "#defining the function\n",
    "\n",
    "def greet(user):\n",
    "    \"\"\"creating a greet function\"\"\"\n",
    "    print(f'Welcome, {user}')\n",
    "    \n",
    "    #parameter passing "
   ]
  },
  {
   "cell_type": "code",
   "execution_count": 6,
   "metadata": {},
   "outputs": [
    {
     "name": "stdout",
     "output_type": "stream",
     "text": [
      "Welcome, tilak\n"
     ]
    }
   ],
   "source": [
    "#function call\n",
    "\n",
    "greet('tilak') #argument passing "
   ]
  },
  {
   "cell_type": "code",
   "execution_count": 9,
   "metadata": {},
   "outputs": [
    {
     "name": "stdout",
     "output_type": "stream",
     "text": [
      "Welcome, srilakshmi\n"
     ]
    }
   ],
   "source": [
    "greet('srilakshmi')"
   ]
  },
  {
   "cell_type": "code",
   "execution_count": 8,
   "metadata": {},
   "outputs": [],
   "source": [
    "def describe_pet(animaltype,petname):\n",
    "    \"\"\"creating a function to describe an animal)\"\"\"\n",
    "    print(f\"I have a {animaltype}\")\n",
    "    print(f\"My {animaltype}'s name is {petname}\")"
   ]
  },
  {
   "cell_type": "code",
   "execution_count": 10,
   "metadata": {},
   "outputs": [
    {
     "name": "stdout",
     "output_type": "stream",
     "text": [
      "I have a dog\n",
      "My dog's name is bruno\n"
     ]
    }
   ],
   "source": [
    "describe_pet('dog','bruno')"
   ]
  },
  {
   "cell_type": "code",
   "execution_count": 11,
   "metadata": {},
   "outputs": [
    {
     "name": "stdout",
     "output_type": "stream",
     "text": [
      "I have a cat\n",
      "My cat's name is snowbell\n"
     ]
    }
   ],
   "source": [
    "describe_pet('cat','snowbell')"
   ]
  },
  {
   "cell_type": "code",
   "execution_count": 12,
   "metadata": {},
   "outputs": [],
   "source": [
    "#NOTE: by default function will be accepting the positional arguments."
   ]
  },
  {
   "cell_type": "code",
   "execution_count": 13,
   "metadata": {},
   "outputs": [
    {
     "name": "stdout",
     "output_type": "stream",
     "text": [
      "I have a dog\n",
      "My dog's name is scooby\n"
     ]
    }
   ],
   "source": [
    "describe_pet(petname='scooby',animaltype='dog') #keyword arguments passing "
   ]
  },
  {
   "cell_type": "code",
   "execution_count": 14,
   "metadata": {},
   "outputs": [],
   "source": [
    "#default argument passing\n",
    "\n",
    "def describe_pet(petname,animaltype='dog'):\n",
    "    \"\"\"creating a function to describe an animal)\"\"\"\n",
    "    print(f\"I have a {animaltype}\")\n",
    "    print(f\"My {animaltype}'s name is {petname}\")"
   ]
  },
  {
   "cell_type": "code",
   "execution_count": 15,
   "metadata": {},
   "outputs": [
    {
     "name": "stdout",
     "output_type": "stream",
     "text": [
      "I have a dog\n",
      "My dog's name is tillu\n"
     ]
    }
   ],
   "source": [
    "describe_pet('tillu')"
   ]
  },
  {
   "cell_type": "code",
   "execution_count": 16,
   "metadata": {},
   "outputs": [
    {
     "name": "stdout",
     "output_type": "stream",
     "text": [
      "I have a dog\n",
      "My dog's name is Tillu\n"
     ]
    }
   ],
   "source": [
    "describe_pet('tillu'.title())"
   ]
  },
  {
   "cell_type": "code",
   "execution_count": 17,
   "metadata": {},
   "outputs": [],
   "source": [
    "def describe_pet(petname,animaltype='cat'):\n",
    "    \"\"\"creating a function to describe an animal\"\"\"\n",
    "    print(f\"I have an {animaltype}\")\n",
    "    print(f\"My {animaltype}'s name is {petname}\")"
   ]
  },
  {
   "cell_type": "code",
   "execution_count": 18,
   "metadata": {},
   "outputs": [
    {
     "name": "stdout",
     "output_type": "stream",
     "text": [
      "I have an cat\n",
      "My cat's name is scooby\n"
     ]
    }
   ],
   "source": [
    "describe_pet('scooby')"
   ]
  },
  {
   "cell_type": "code",
   "execution_count": 19,
   "metadata": {},
   "outputs": [
    {
     "name": "stdout",
     "output_type": "stream",
     "text": [
      "I have an cat\n",
      "My cat's name is Scooby\n"
     ]
    }
   ],
   "source": [
    "describe_pet('scooby'.title())"
   ]
  },
  {
   "cell_type": "code",
   "execution_count": null,
   "metadata": {},
   "outputs": [],
   "source": []
  }
 ],
 "metadata": {
  "kernelspec": {
   "display_name": "Python 3",
   "language": "python",
   "name": "python3"
  },
  "language_info": {
   "codemirror_mode": {
    "name": "ipython",
    "version": 3
   },
   "file_extension": ".py",
   "mimetype": "text/x-python",
   "name": "python",
   "nbconvert_exporter": "python",
   "pygments_lexer": "ipython3",
   "version": "3.8.6rc1"
  }
 },
 "nbformat": 4,
 "nbformat_minor": 4
}
